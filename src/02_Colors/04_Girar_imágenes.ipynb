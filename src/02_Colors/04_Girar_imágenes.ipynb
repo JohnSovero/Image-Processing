{
  "cells": [
    {
      "cell_type": "markdown",
      "metadata": {},
      "source": [
        "# Invertir Texto"
      ]
    },
    {
      "cell_type": "code",
      "execution_count": 17,
      "metadata": {},
      "outputs": [],
      "source": [
        "# recordar:\n",
        "texto = 'Procesamiento de imágenes'"
      ]
    },
    {
      "cell_type": "code",
      "execution_count": null,
      "metadata": {
        "colab": {
          "base_uri": "https://localhost:8080/",
          "height": 35
        },
        "id": "Qxcdq8e-x-ft",
        "outputId": "b763c2a8-075e-4022-f3d3-92ddd5c5b17a"
      },
      "outputs": [],
      "source": [
        "texto[::-1]"
      ]
    },
    {
      "cell_type": "markdown",
      "metadata": {},
      "source": [
        "# Concatenate image with concatenate"
      ]
    },
    {
      "cell_type": "code",
      "execution_count": null,
      "metadata": {
        "colab": {
          "base_uri": "https://localhost:8080/"
        },
        "id": "tIk4UPshyME6",
        "outputId": "18c25ec9-adef-4282-d731-ddc1281c7d3a"
      },
      "outputs": [],
      "source": [
        "!wget https://dam.smashmexico.com.mx/wp-content/uploads/2019/07/meme-spiderman.jpg -O image.jpg"
      ]
    },
    {
      "cell_type": "code",
      "execution_count": null,
      "metadata": {
        "colab": {
          "base_uri": "https://localhost:8080/",
          "height": 413
        },
        "id": "JLfzBF2PyS9P",
        "outputId": "5ee017f5-3f6b-422a-cd80-df92302c982d"
      },
      "outputs": [],
      "source": [
        "import matplotlib.pyplot as plt\n",
        "import numpy as np\n",
        "im=plt.imread('image.jpg')\n",
        "plt.imshow(im)"
      ]
    },
    {
      "cell_type": "code",
      "execution_count": null,
      "metadata": {
        "colab": {
          "base_uri": "https://localhost:8080/",
          "height": 452
        },
        "id": "ftbOC18Ryf7T",
        "outputId": "b5cf150c-c5ea-46af-8b4e-5ed0fa171f95"
      },
      "outputs": [],
      "source": [
        "#slicing vertical\n",
        "plt.imshow(im[:,550:,:])"
      ]
    },
    {
      "cell_type": "code",
      "execution_count": null,
      "metadata": {
        "colab": {
          "base_uri": "https://localhost:8080/",
          "height": 420
        },
        "id": "5drJebkEyuIH",
        "outputId": "8f5e3494-045d-41bf-e26e-3e50329bad85"
      },
      "outputs": [],
      "source": [
        "plt.imshow(im[:150,:220,:])"
      ]
    },
    {
      "cell_type": "code",
      "execution_count": null,
      "metadata": {
        "id": "A281AFTWzD-M"
      },
      "outputs": [],
      "source": [
        "# guardar un slicing:\n",
        "im_spiderman_recortado = im[:,550:,:]"
      ]
    },
    {
      "cell_type": "code",
      "execution_count": null,
      "metadata": {
        "colab": {
          "base_uri": "https://localhost:8080/",
          "height": 452
        },
        "id": "pl2ibIM1zPpj",
        "outputId": "80b009e0-bb1a-4f4f-f76c-c0a3a8772fed"
      },
      "outputs": [],
      "source": [
        "plt.imshow(im_spiderman_recortado)"
      ]
    },
    {
      "cell_type": "code",
      "execution_count": null,
      "metadata": {
        "colab": {
          "base_uri": "https://localhost:8080/",
          "height": 435
        },
        "id": "hKO0HWM5zbIv",
        "outputId": "df68e3f0-6671-42d7-a6a5-25aa8cd958fe"
      },
      "outputs": [],
      "source": [
        "plt.imshow(im_spiderman_recortado[:,::-1,:])\n",
        "#invertir colores\n",
        "#plt.imshow(im_spiderman_recortado[:,:,::-1])"
      ]
    },
    {
      "cell_type": "code",
      "execution_count": null,
      "metadata": {
        "colab": {
          "base_uri": "https://localhost:8080/",
          "height": 452
        },
        "id": "hqGAVb8lRIFL",
        "outputId": "bb002d1d-60fc-4844-e403-f28e3b295a76"
      },
      "outputs": [],
      "source": [
        "im_spiderman_recortado2 = im_spiderman_recortado[:,::-1,:]\n",
        "imagen_concatenate = np.concatenate((im_spiderman_recortado2, im_spiderman_recortado), axis = 1)\n",
        "plt.imshow(imagen_concatenate)"
      ]
    },
    {
      "cell_type": "code",
      "execution_count": null,
      "metadata": {
        "colab": {
          "base_uri": "https://localhost:8080/",
          "height": 452
        },
        "id": "8_MY9v2SXgAW",
        "outputId": "fbfdd904-9895-494d-ab18-dbc6feec4672"
      },
      "outputs": [],
      "source": [
        "plt.imshow(im_spiderman_recortado2)"
      ]
    },
    {
      "cell_type": "markdown",
      "metadata": {},
      "source": [
        "# Concatenate without function concatenate"
      ]
    },
    {
      "cell_type": "code",
      "execution_count": null,
      "metadata": {
        "id": "5eJWeVwiUMpf"
      },
      "outputs": [],
      "source": [
        "imagen_original = im.copy()"
      ]
    },
    {
      "cell_type": "code",
      "execution_count": null,
      "metadata": {
        "colab": {
          "base_uri": "https://localhost:8080/"
        },
        "id": "ylnXvK2qUr6O",
        "outputId": "dd862764-ed81-4813-d2c8-62a37ab99b4f"
      },
      "outputs": [],
      "source": [
        "imagen_original.shape"
      ]
    },
    {
      "cell_type": "code",
      "execution_count": null,
      "metadata": {
        "colab": {
          "base_uri": "https://localhost:8080/"
        },
        "id": "gAccdHxGXoTG",
        "outputId": "c0c0150f-5363-43cd-e158-ab75352e7911"
      },
      "outputs": [],
      "source": [
        "im_spiderman_recortado.shape"
      ]
    },
    {
      "cell_type": "code",
      "execution_count": null,
      "metadata": {},
      "outputs": [],
      "source": [
        "im_spiderman_recortado2.shape"
      ]
    },
    {
      "cell_type": "code",
      "execution_count": null,
      "metadata": {
        "id": "OYGPbhXYUfBa"
      },
      "outputs": [],
      "source": [
        "imagen_final = np.zeros((600, 700, 3), dtype=np.uint8)\n",
        "imagen_final[:, :350, :] = im_spiderman_recortado2\n",
        "imagen_final[:, 350:700, :] = im_spiderman_recortado"
      ]
    },
    {
      "cell_type": "code",
      "execution_count": null,
      "metadata": {
        "colab": {
          "base_uri": "https://localhost:8080/",
          "height": 413
        },
        "id": "a1P55ZR2VLlA",
        "outputId": "bae24444-5774-4c73-8b59-32fa07094455"
      },
      "outputs": [],
      "source": [
        "plt.imshow(imagen_final)"
      ]
    }
  ],
  "metadata": {
    "colab": {
      "provenance": []
    },
    "kernelspec": {
      "display_name": "Python 3",
      "name": "python3"
    },
    "language_info": {
      "codemirror_mode": {
        "name": "ipython",
        "version": 3
      },
      "file_extension": ".py",
      "mimetype": "text/x-python",
      "name": "python",
      "nbconvert_exporter": "python",
      "pygments_lexer": "ipython3",
      "version": "3.11.5"
    }
  },
  "nbformat": 4,
  "nbformat_minor": 0
}
